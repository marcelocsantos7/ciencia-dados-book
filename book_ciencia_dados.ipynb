{
 "cells": [
  {
   "cell_type": "code",
   "execution_count": 1,
   "id": "226f042d-fb93-4523-b45d-94a928ef0e29",
   "metadata": {},
   "outputs": [],
   "source": [
    "import pandas as pd\n",
    "import numpy as np"
   ]
  },
  {
   "cell_type": "code",
   "execution_count": 2,
   "id": "4d42fc95-992c-4e41-b167-cbabbc6f072f",
   "metadata": {},
   "outputs": [],
   "source": [
    "cidades = pd.DataFrame(\n",
    "    [\n",
    "        ['Paraná', 'Londrina', 575377, 1356.00],\n",
    "        ['São Paulo', 'São Carlos', 254484, 1508.00],\n",
    "        ['Santa Catarina', 'Florianópolis', 508826, 1798.00],\n",
    "        ['Paraná', 'Curitiba', 1963726, 2293.00],\n",
    "        ['São Paulo', 'Campinas', 1223237, 1710.00],\n",
    "    ], columns=['Estado', 'Cidade', 'Habitantes', 'Salário-Médio']\n",
    ")"
   ]
  },
  {
   "cell_type": "code",
   "execution_count": 3,
   "id": "b3fab3e2-5a7d-4a89-b4e1-9e004ed0b759",
   "metadata": {},
   "outputs": [
    {
     "data": {
      "text/plain": [
       "(5, 4)"
      ]
     },
     "execution_count": 3,
     "metadata": {},
     "output_type": "execute_result"
    }
   ],
   "source": [
    "cidades.shape"
   ]
  },
  {
   "cell_type": "code",
   "execution_count": 4,
   "id": "d350e5bc-a7dc-47dd-b480-7e74107abc1e",
   "metadata": {},
   "outputs": [
    {
     "data": {
      "text/html": [
       "<div>\n",
       "<style scoped>\n",
       "    .dataframe tbody tr th:only-of-type {\n",
       "        vertical-align: middle;\n",
       "    }\n",
       "\n",
       "    .dataframe tbody tr th {\n",
       "        vertical-align: top;\n",
       "    }\n",
       "\n",
       "    .dataframe thead th {\n",
       "        text-align: right;\n",
       "    }\n",
       "</style>\n",
       "<table border=\"1\" class=\"dataframe\">\n",
       "  <thead>\n",
       "    <tr style=\"text-align: right;\">\n",
       "      <th></th>\n",
       "      <th>Estado</th>\n",
       "      <th>Cidade</th>\n",
       "      <th>Habitantes</th>\n",
       "      <th>Salário-Médio</th>\n",
       "    </tr>\n",
       "  </thead>\n",
       "  <tbody>\n",
       "    <tr>\n",
       "      <th>0</th>\n",
       "      <td>Paraná</td>\n",
       "      <td>Londrina</td>\n",
       "      <td>575377</td>\n",
       "      <td>1356.0</td>\n",
       "    </tr>\n",
       "    <tr>\n",
       "      <th>1</th>\n",
       "      <td>São Paulo</td>\n",
       "      <td>São Carlos</td>\n",
       "      <td>254484</td>\n",
       "      <td>1508.0</td>\n",
       "    </tr>\n",
       "    <tr>\n",
       "      <th>2</th>\n",
       "      <td>Santa Catarina</td>\n",
       "      <td>Florianópolis</td>\n",
       "      <td>508826</td>\n",
       "      <td>1798.0</td>\n",
       "    </tr>\n",
       "    <tr>\n",
       "      <th>3</th>\n",
       "      <td>Paraná</td>\n",
       "      <td>Curitiba</td>\n",
       "      <td>1963726</td>\n",
       "      <td>2293.0</td>\n",
       "    </tr>\n",
       "    <tr>\n",
       "      <th>4</th>\n",
       "      <td>São Paulo</td>\n",
       "      <td>Campinas</td>\n",
       "      <td>1223237</td>\n",
       "      <td>1710.0</td>\n",
       "    </tr>\n",
       "  </tbody>\n",
       "</table>\n",
       "</div>"
      ],
      "text/plain": [
       "           Estado         Cidade  Habitantes  Salário-Médio\n",
       "0          Paraná       Londrina      575377         1356.0\n",
       "1       São Paulo     São Carlos      254484         1508.0\n",
       "2  Santa Catarina  Florianópolis      508826         1798.0\n",
       "3          Paraná       Curitiba     1963726         2293.0\n",
       "4       São Paulo       Campinas     1223237         1710.0"
      ]
     },
     "execution_count": 4,
     "metadata": {},
     "output_type": "execute_result"
    }
   ],
   "source": [
    "cidades"
   ]
  },
  {
   "cell_type": "code",
   "execution_count": 5,
   "id": "331856af-1d24-4064-81d7-27dbcfab6a16",
   "metadata": {},
   "outputs": [
    {
     "name": "stdout",
     "output_type": "stream",
     "text": [
      "<class 'pandas.core.frame.DataFrame'>\n",
      "RangeIndex: 5 entries, 0 to 4\n",
      "Data columns (total 4 columns):\n",
      " #   Column         Non-Null Count  Dtype  \n",
      "---  ------         --------------  -----  \n",
      " 0   Estado         5 non-null      object \n",
      " 1   Cidade         5 non-null      object \n",
      " 2   Habitantes     5 non-null      int64  \n",
      " 3   Salário-Médio  5 non-null      float64\n",
      "dtypes: float64(1), int64(1), object(2)\n",
      "memory usage: 292.0+ bytes\n"
     ]
    }
   ],
   "source": [
    "cidades.info()"
   ]
  },
  {
   "cell_type": "code",
   "execution_count": 6,
   "id": "5ba3b295-7799-45ae-bfd6-91686c6e9338",
   "metadata": {},
   "outputs": [
    {
     "data": {
      "text/plain": [
       "Index(['Estado', 'Cidade', 'Habitantes', 'Salário-Médio'], dtype='object')"
      ]
     },
     "execution_count": 6,
     "metadata": {},
     "output_type": "execute_result"
    }
   ],
   "source": [
    "cidades.columns"
   ]
  },
  {
   "cell_type": "code",
   "execution_count": 7,
   "id": "0b292747-23d6-4a7a-b947-0339067741e5",
   "metadata": {},
   "outputs": [
    {
     "data": {
      "text/plain": [
       "Estado           5\n",
       "Cidade           5\n",
       "Habitantes       5\n",
       "Salário-Médio    5\n",
       "dtype: int64"
      ]
     },
     "execution_count": 7,
     "metadata": {},
     "output_type": "execute_result"
    }
   ],
   "source": [
    "cidades.count()"
   ]
  },
  {
   "cell_type": "code",
   "execution_count": 12,
   "id": "b0ddcaab-46df-4993-918c-8fbb167becfe",
   "metadata": {},
   "outputs": [
    {
     "data": {
      "text/html": [
       "<div>\n",
       "<style scoped>\n",
       "    .dataframe tbody tr th:only-of-type {\n",
       "        vertical-align: middle;\n",
       "    }\n",
       "\n",
       "    .dataframe tbody tr th {\n",
       "        vertical-align: top;\n",
       "    }\n",
       "\n",
       "    .dataframe thead th {\n",
       "        text-align: right;\n",
       "    }\n",
       "</style>\n",
       "<table border=\"1\" class=\"dataframe\">\n",
       "  <thead>\n",
       "    <tr style=\"text-align: right;\">\n",
       "      <th></th>\n",
       "      <th>Habitantes</th>\n",
       "      <th>Salário-Médio</th>\n",
       "    </tr>\n",
       "  </thead>\n",
       "  <tbody>\n",
       "    <tr>\n",
       "      <th>count</th>\n",
       "      <td>5.000000e+00</td>\n",
       "      <td>5.000000</td>\n",
       "    </tr>\n",
       "    <tr>\n",
       "      <th>mean</th>\n",
       "      <td>9.051300e+05</td>\n",
       "      <td>1733.000000</td>\n",
       "    </tr>\n",
       "    <tr>\n",
       "      <th>std</th>\n",
       "      <td>6.911859e+05</td>\n",
       "      <td>357.459089</td>\n",
       "    </tr>\n",
       "    <tr>\n",
       "      <th>min</th>\n",
       "      <td>2.544840e+05</td>\n",
       "      <td>1356.000000</td>\n",
       "    </tr>\n",
       "    <tr>\n",
       "      <th>25%</th>\n",
       "      <td>5.088260e+05</td>\n",
       "      <td>1508.000000</td>\n",
       "    </tr>\n",
       "    <tr>\n",
       "      <th>50%</th>\n",
       "      <td>5.753770e+05</td>\n",
       "      <td>1710.000000</td>\n",
       "    </tr>\n",
       "    <tr>\n",
       "      <th>75%</th>\n",
       "      <td>1.223237e+06</td>\n",
       "      <td>1798.000000</td>\n",
       "    </tr>\n",
       "    <tr>\n",
       "      <th>max</th>\n",
       "      <td>1.963726e+06</td>\n",
       "      <td>2293.000000</td>\n",
       "    </tr>\n",
       "  </tbody>\n",
       "</table>\n",
       "</div>"
      ],
      "text/plain": [
       "         Habitantes  Salário-Médio\n",
       "count  5.000000e+00       5.000000\n",
       "mean   9.051300e+05    1733.000000\n",
       "std    6.911859e+05     357.459089\n",
       "min    2.544840e+05    1356.000000\n",
       "25%    5.088260e+05    1508.000000\n",
       "50%    5.753770e+05    1710.000000\n",
       "75%    1.223237e+06    1798.000000\n",
       "max    1.963726e+06    2293.000000"
      ]
     },
     "execution_count": 12,
     "metadata": {},
     "output_type": "execute_result"
    }
   ],
   "source": [
    "cidades.describe()"
   ]
  },
  {
   "cell_type": "code",
   "execution_count": 15,
   "id": "768a4869-2b29-4c8e-94ed-7db63a40f34e",
   "metadata": {},
   "outputs": [
    {
     "data": {
      "text/plain": [
       "Estado            object\n",
       "Cidade            object\n",
       "Habitantes         int64\n",
       "Salário-Médio    float64\n",
       "dtype: object"
      ]
     },
     "execution_count": 15,
     "metadata": {},
     "output_type": "execute_result"
    }
   ],
   "source": [
    "cidades.dtypes"
   ]
  },
  {
   "cell_type": "code",
   "execution_count": 16,
   "id": "7fe72ee6-7e06-44c1-90e4-2289dacf6faf",
   "metadata": {},
   "outputs": [],
   "source": [
    "# adicionando uma coluna\n",
    "cidades['Data'] = ['3-8-2021', '3-9-2021', '3-10-2021', '3-11-2021', '3-12-2021']"
   ]
  },
  {
   "cell_type": "code",
   "execution_count": 17,
   "id": "2112ce7a-2abe-412d-8a39-36380f9e5e94",
   "metadata": {},
   "outputs": [
    {
     "data": {
      "text/html": [
       "<div>\n",
       "<style scoped>\n",
       "    .dataframe tbody tr th:only-of-type {\n",
       "        vertical-align: middle;\n",
       "    }\n",
       "\n",
       "    .dataframe tbody tr th {\n",
       "        vertical-align: top;\n",
       "    }\n",
       "\n",
       "    .dataframe thead th {\n",
       "        text-align: right;\n",
       "    }\n",
       "</style>\n",
       "<table border=\"1\" class=\"dataframe\">\n",
       "  <thead>\n",
       "    <tr style=\"text-align: right;\">\n",
       "      <th></th>\n",
       "      <th>Estado</th>\n",
       "      <th>Cidade</th>\n",
       "      <th>Habitantes</th>\n",
       "      <th>Salário-Médio</th>\n",
       "      <th>Data</th>\n",
       "    </tr>\n",
       "  </thead>\n",
       "  <tbody>\n",
       "    <tr>\n",
       "      <th>0</th>\n",
       "      <td>Paraná</td>\n",
       "      <td>Londrina</td>\n",
       "      <td>575377</td>\n",
       "      <td>1356.0</td>\n",
       "      <td>3-8-2021</td>\n",
       "    </tr>\n",
       "    <tr>\n",
       "      <th>1</th>\n",
       "      <td>São Paulo</td>\n",
       "      <td>São Carlos</td>\n",
       "      <td>254484</td>\n",
       "      <td>1508.0</td>\n",
       "      <td>3-9-2021</td>\n",
       "    </tr>\n",
       "    <tr>\n",
       "      <th>2</th>\n",
       "      <td>Santa Catarina</td>\n",
       "      <td>Florianópolis</td>\n",
       "      <td>508826</td>\n",
       "      <td>1798.0</td>\n",
       "      <td>3-10-2021</td>\n",
       "    </tr>\n",
       "    <tr>\n",
       "      <th>3</th>\n",
       "      <td>Paraná</td>\n",
       "      <td>Curitiba</td>\n",
       "      <td>1963726</td>\n",
       "      <td>2293.0</td>\n",
       "      <td>3-11-2021</td>\n",
       "    </tr>\n",
       "    <tr>\n",
       "      <th>4</th>\n",
       "      <td>São Paulo</td>\n",
       "      <td>Campinas</td>\n",
       "      <td>1223237</td>\n",
       "      <td>1710.0</td>\n",
       "      <td>3-12-2021</td>\n",
       "    </tr>\n",
       "  </tbody>\n",
       "</table>\n",
       "</div>"
      ],
      "text/plain": [
       "           Estado         Cidade  Habitantes  Salário-Médio       Data\n",
       "0          Paraná       Londrina      575377         1356.0   3-8-2021\n",
       "1       São Paulo     São Carlos      254484         1508.0   3-9-2021\n",
       "2  Santa Catarina  Florianópolis      508826         1798.0  3-10-2021\n",
       "3          Paraná       Curitiba     1963726         2293.0  3-11-2021\n",
       "4       São Paulo       Campinas     1223237         1710.0  3-12-2021"
      ]
     },
     "execution_count": 17,
     "metadata": {},
     "output_type": "execute_result"
    }
   ],
   "source": [
    "cidades"
   ]
  },
  {
   "cell_type": "code",
   "execution_count": 22,
   "id": "6db2c6a9-f8aa-4307-823c-ff54c19e762e",
   "metadata": {},
   "outputs": [],
   "source": [
    "# convertendo a coluna Data em Datetime\n",
    "cidades['Data'] = pd.to_datetime(cidades['Data'], format='%d-%m-%Y')"
   ]
  },
  {
   "cell_type": "code",
   "execution_count": 24,
   "id": "fbb1826e-0ac0-4116-bc4a-6dc700f970e8",
   "metadata": {},
   "outputs": [
    {
     "data": {
      "text/plain": [
       "Estado                   object\n",
       "Cidade                   object\n",
       "Habitantes                int64\n",
       "Salário-Médio           float64\n",
       "Data             datetime64[ns]\n",
       "dtype: object"
      ]
     },
     "execution_count": 24,
     "metadata": {},
     "output_type": "execute_result"
    }
   ],
   "source": [
    "cidades.dtypes"
   ]
  },
  {
   "cell_type": "code",
   "execution_count": 26,
   "id": "dbe1cd6f-3fa4-4915-8aab-47d7580b624f",
   "metadata": {},
   "outputs": [],
   "source": [
    "cidades.rename(columns={'Habitantes': 'N Habitantes', 'Data': 'Data Censo'}, inplace=True)"
   ]
  },
  {
   "cell_type": "code",
   "execution_count": 28,
   "id": "9d915b91-d6e2-4840-8c80-16ea4b394df9",
   "metadata": {},
   "outputs": [
    {
     "data": {
      "text/html": [
       "<div>\n",
       "<style scoped>\n",
       "    .dataframe tbody tr th:only-of-type {\n",
       "        vertical-align: middle;\n",
       "    }\n",
       "\n",
       "    .dataframe tbody tr th {\n",
       "        vertical-align: top;\n",
       "    }\n",
       "\n",
       "    .dataframe thead th {\n",
       "        text-align: right;\n",
       "    }\n",
       "</style>\n",
       "<table border=\"1\" class=\"dataframe\">\n",
       "  <thead>\n",
       "    <tr style=\"text-align: right;\">\n",
       "      <th></th>\n",
       "      <th>Estado</th>\n",
       "      <th>Cidade</th>\n",
       "      <th>N Habitantes</th>\n",
       "      <th>Salário-Médio</th>\n",
       "      <th>Data Censo</th>\n",
       "    </tr>\n",
       "  </thead>\n",
       "  <tbody>\n",
       "    <tr>\n",
       "      <th>0</th>\n",
       "      <td>Paraná</td>\n",
       "      <td>Londrina</td>\n",
       "      <td>575377</td>\n",
       "      <td>1356.0</td>\n",
       "      <td>2021-08-03</td>\n",
       "    </tr>\n",
       "  </tbody>\n",
       "</table>\n",
       "</div>"
      ],
      "text/plain": [
       "   Estado    Cidade  N Habitantes  Salário-Médio Data Censo\n",
       "0  Paraná  Londrina        575377         1356.0 2021-08-03"
      ]
     },
     "execution_count": 28,
     "metadata": {},
     "output_type": "execute_result"
    }
   ],
   "source": [
    "cidades.head(1)"
   ]
  },
  {
   "cell_type": "code",
   "execution_count": 31,
   "id": "fe2e504b-e263-4580-b1f3-5cfc25d7411a",
   "metadata": {},
   "outputs": [
    {
     "data": {
      "text/html": [
       "<div>\n",
       "<style scoped>\n",
       "    .dataframe tbody tr th:only-of-type {\n",
       "        vertical-align: middle;\n",
       "    }\n",
       "\n",
       "    .dataframe tbody tr th {\n",
       "        vertical-align: top;\n",
       "    }\n",
       "\n",
       "    .dataframe thead th {\n",
       "        text-align: right;\n",
       "    }\n",
       "</style>\n",
       "<table border=\"1\" class=\"dataframe\">\n",
       "  <thead>\n",
       "    <tr style=\"text-align: right;\">\n",
       "      <th></th>\n",
       "      <th>Estado</th>\n",
       "      <th>Cidade</th>\n",
       "      <th>N Habitantes</th>\n",
       "      <th>Salário-Médio</th>\n",
       "      <th>Data Censo</th>\n",
       "    </tr>\n",
       "  </thead>\n",
       "  <tbody>\n",
       "    <tr>\n",
       "      <th>1</th>\n",
       "      <td>São Paulo</td>\n",
       "      <td>São Carlos</td>\n",
       "      <td>254484</td>\n",
       "      <td>1508.0</td>\n",
       "      <td>2021-09-03</td>\n",
       "    </tr>\n",
       "    <tr>\n",
       "      <th>2</th>\n",
       "      <td>Santa Catarina</td>\n",
       "      <td>Florianópolis</td>\n",
       "      <td>508826</td>\n",
       "      <td>1798.0</td>\n",
       "      <td>2021-10-03</td>\n",
       "    </tr>\n",
       "  </tbody>\n",
       "</table>\n",
       "</div>"
      ],
      "text/plain": [
       "           Estado         Cidade  N Habitantes  Salário-Médio Data Censo\n",
       "1       São Paulo     São Carlos        254484         1508.0 2021-09-03\n",
       "2  Santa Catarina  Florianópolis        508826         1798.0 2021-10-03"
      ]
     },
     "execution_count": 31,
     "metadata": {},
     "output_type": "execute_result"
    }
   ],
   "source": [
    "cidades.loc[[1,2]]"
   ]
  },
  {
   "cell_type": "code",
   "execution_count": 32,
   "id": "ad7bcf72-5f3a-4b62-a224-75655082ecc9",
   "metadata": {},
   "outputs": [
    {
     "data": {
      "text/plain": [
       "RangeIndex(start=0, stop=5, step=1)"
      ]
     },
     "execution_count": 32,
     "metadata": {},
     "output_type": "execute_result"
    }
   ],
   "source": [
    "cidades.index"
   ]
  },
  {
   "cell_type": "code",
   "execution_count": 33,
   "id": "360b18eb-0f27-4fcc-a0b0-22a0aeba36a0",
   "metadata": {},
   "outputs": [
    {
     "data": {
      "text/plain": [
       "Estado                        Paraná\n",
       "Cidade                      Londrina\n",
       "N Habitantes                  575377\n",
       "Salário-Médio                 1356.0\n",
       "Data Censo       2021-08-03 00:00:00\n",
       "Name: 0, dtype: object"
      ]
     },
     "execution_count": 33,
     "metadata": {},
     "output_type": "execute_result"
    }
   ],
   "source": [
    "cidades.iloc[0]"
   ]
  },
  {
   "cell_type": "code",
   "execution_count": 37,
   "id": "72c0915c-7fd0-4075-a9d7-ad0a925c32ba",
   "metadata": {},
   "outputs": [
    {
     "data": {
      "text/html": [
       "<div>\n",
       "<style scoped>\n",
       "    .dataframe tbody tr th:only-of-type {\n",
       "        vertical-align: middle;\n",
       "    }\n",
       "\n",
       "    .dataframe tbody tr th {\n",
       "        vertical-align: top;\n",
       "    }\n",
       "\n",
       "    .dataframe thead th {\n",
       "        text-align: right;\n",
       "    }\n",
       "</style>\n",
       "<table border=\"1\" class=\"dataframe\">\n",
       "  <thead>\n",
       "    <tr style=\"text-align: right;\">\n",
       "      <th></th>\n",
       "      <th>Estado</th>\n",
       "      <th>Cidade</th>\n",
       "      <th>N Habitantes</th>\n",
       "      <th>Salário-Médio</th>\n",
       "      <th>Data Censo</th>\n",
       "    </tr>\n",
       "  </thead>\n",
       "  <tbody>\n",
       "    <tr>\n",
       "      <th>4</th>\n",
       "      <td>São Paulo</td>\n",
       "      <td>Campinas</td>\n",
       "      <td>1223237</td>\n",
       "      <td>1710.0</td>\n",
       "      <td>2021-12-03</td>\n",
       "    </tr>\n",
       "  </tbody>\n",
       "</table>\n",
       "</div>"
      ],
      "text/plain": [
       "      Estado    Cidade  N Habitantes  Salário-Médio Data Censo\n",
       "4  São Paulo  Campinas       1223237         1710.0 2021-12-03"
      ]
     },
     "execution_count": 37,
     "metadata": {},
     "output_type": "execute_result"
    }
   ],
   "source": [
    "cidades.iloc[[4]]"
   ]
  },
  {
   "cell_type": "code",
   "execution_count": 46,
   "id": "56c080a7-e379-4e0d-bf1a-3c62db46d0c1",
   "metadata": {},
   "outputs": [
    {
     "data": {
      "text/html": [
       "<div>\n",
       "<style scoped>\n",
       "    .dataframe tbody tr th:only-of-type {\n",
       "        vertical-align: middle;\n",
       "    }\n",
       "\n",
       "    .dataframe tbody tr th {\n",
       "        vertical-align: top;\n",
       "    }\n",
       "\n",
       "    .dataframe thead th {\n",
       "        text-align: right;\n",
       "    }\n",
       "</style>\n",
       "<table border=\"1\" class=\"dataframe\">\n",
       "  <thead>\n",
       "    <tr style=\"text-align: right;\">\n",
       "      <th></th>\n",
       "      <th>Cidade</th>\n",
       "      <th>N Habitantes</th>\n",
       "    </tr>\n",
       "  </thead>\n",
       "  <tbody>\n",
       "    <tr>\n",
       "      <th>4</th>\n",
       "      <td>Campinas</td>\n",
       "      <td>1223237</td>\n",
       "    </tr>\n",
       "    <tr>\n",
       "      <th>2</th>\n",
       "      <td>Florianópolis</td>\n",
       "      <td>508826</td>\n",
       "    </tr>\n",
       "    <tr>\n",
       "      <th>0</th>\n",
       "      <td>Londrina</td>\n",
       "      <td>575377</td>\n",
       "    </tr>\n",
       "  </tbody>\n",
       "</table>\n",
       "</div>"
      ],
      "text/plain": [
       "          Cidade  N Habitantes\n",
       "4       Campinas       1223237\n",
       "2  Florianópolis        508826\n",
       "0       Londrina        575377"
      ]
     },
     "execution_count": 46,
     "metadata": {},
     "output_type": "execute_result"
    }
   ],
   "source": [
    "cidades.iloc[::-2, 1:3]"
   ]
  },
  {
   "cell_type": "code",
   "execution_count": 49,
   "id": "70681f15-902b-4390-9eb6-deec0dca68dd",
   "metadata": {},
   "outputs": [
    {
     "data": {
      "text/html": [
       "<div>\n",
       "<style scoped>\n",
       "    .dataframe tbody tr th:only-of-type {\n",
       "        vertical-align: middle;\n",
       "    }\n",
       "\n",
       "    .dataframe tbody tr th {\n",
       "        vertical-align: top;\n",
       "    }\n",
       "\n",
       "    .dataframe thead th {\n",
       "        text-align: right;\n",
       "    }\n",
       "</style>\n",
       "<table border=\"1\" class=\"dataframe\">\n",
       "  <thead>\n",
       "    <tr style=\"text-align: right;\">\n",
       "      <th></th>\n",
       "      <th>Salário-Médio</th>\n",
       "      <th>Cidade</th>\n",
       "      <th>N Habitantes</th>\n",
       "      <th>Salário-Médio</th>\n",
       "    </tr>\n",
       "  </thead>\n",
       "  <tbody>\n",
       "    <tr>\n",
       "      <th>0</th>\n",
       "      <td>1356.0</td>\n",
       "      <td>Londrina</td>\n",
       "      <td>575377</td>\n",
       "      <td>1356.0</td>\n",
       "    </tr>\n",
       "    <tr>\n",
       "      <th>1</th>\n",
       "      <td>1508.0</td>\n",
       "      <td>São Carlos</td>\n",
       "      <td>254484</td>\n",
       "      <td>1508.0</td>\n",
       "    </tr>\n",
       "    <tr>\n",
       "      <th>2</th>\n",
       "      <td>1798.0</td>\n",
       "      <td>Florianópolis</td>\n",
       "      <td>508826</td>\n",
       "      <td>1798.0</td>\n",
       "    </tr>\n",
       "    <tr>\n",
       "      <th>3</th>\n",
       "      <td>2293.0</td>\n",
       "      <td>Curitiba</td>\n",
       "      <td>1963726</td>\n",
       "      <td>2293.0</td>\n",
       "    </tr>\n",
       "    <tr>\n",
       "      <th>4</th>\n",
       "      <td>1710.0</td>\n",
       "      <td>Campinas</td>\n",
       "      <td>1223237</td>\n",
       "      <td>1710.0</td>\n",
       "    </tr>\n",
       "  </tbody>\n",
       "</table>\n",
       "</div>"
      ],
      "text/plain": [
       "   Salário-Médio         Cidade  N Habitantes  Salário-Médio\n",
       "0         1356.0       Londrina        575377         1356.0\n",
       "1         1508.0     São Carlos        254484         1508.0\n",
       "2         1798.0  Florianópolis        508826         1798.0\n",
       "3         2293.0       Curitiba       1963726         2293.0\n",
       "4         1710.0       Campinas       1223237         1710.0"
      ]
     },
     "execution_count": 49,
     "metadata": {},
     "output_type": "execute_result"
    }
   ],
   "source": [
    "cidades.iloc[:, [3,1,2,3]]"
   ]
  },
  {
   "cell_type": "code",
   "execution_count": 52,
   "id": "ccccf281-4e2d-4c6c-8f6b-eecc1e58495c",
   "metadata": {},
   "outputs": [],
   "source": [
    "# Adicionando colunas\n",
    "# df.insert( posicao, 'nome', [valores])\n",
    "cidades.insert(2, 'Sigla-Repetido', ['PR', 'SP', 'SC', 'PR', 'SP'])"
   ]
  },
  {
   "cell_type": "code",
   "execution_count": 53,
   "id": "44496510-4985-4ce3-9542-fc945255d5ad",
   "metadata": {},
   "outputs": [
    {
     "data": {
      "text/html": [
       "<div>\n",
       "<style scoped>\n",
       "    .dataframe tbody tr th:only-of-type {\n",
       "        vertical-align: middle;\n",
       "    }\n",
       "\n",
       "    .dataframe tbody tr th {\n",
       "        vertical-align: top;\n",
       "    }\n",
       "\n",
       "    .dataframe thead th {\n",
       "        text-align: right;\n",
       "    }\n",
       "</style>\n",
       "<table border=\"1\" class=\"dataframe\">\n",
       "  <thead>\n",
       "    <tr style=\"text-align: right;\">\n",
       "      <th></th>\n",
       "      <th>Estado</th>\n",
       "      <th>Cidade</th>\n",
       "      <th>Sigla-Repetido</th>\n",
       "      <th>Sigla</th>\n",
       "      <th>N Habitantes</th>\n",
       "      <th>Salário-Médio</th>\n",
       "      <th>Data Censo</th>\n",
       "    </tr>\n",
       "  </thead>\n",
       "  <tbody>\n",
       "    <tr>\n",
       "      <th>0</th>\n",
       "      <td>Paraná</td>\n",
       "      <td>Londrina</td>\n",
       "      <td>PR</td>\n",
       "      <td>PR</td>\n",
       "      <td>575377</td>\n",
       "      <td>1356.0</td>\n",
       "      <td>2021-08-03</td>\n",
       "    </tr>\n",
       "    <tr>\n",
       "      <th>1</th>\n",
       "      <td>São Paulo</td>\n",
       "      <td>São Carlos</td>\n",
       "      <td>SP</td>\n",
       "      <td>SP</td>\n",
       "      <td>254484</td>\n",
       "      <td>1508.0</td>\n",
       "      <td>2021-09-03</td>\n",
       "    </tr>\n",
       "    <tr>\n",
       "      <th>2</th>\n",
       "      <td>Santa Catarina</td>\n",
       "      <td>Florianópolis</td>\n",
       "      <td>SC</td>\n",
       "      <td>SC</td>\n",
       "      <td>508826</td>\n",
       "      <td>1798.0</td>\n",
       "      <td>2021-10-03</td>\n",
       "    </tr>\n",
       "    <tr>\n",
       "      <th>3</th>\n",
       "      <td>Paraná</td>\n",
       "      <td>Curitiba</td>\n",
       "      <td>PR</td>\n",
       "      <td>PR</td>\n",
       "      <td>1963726</td>\n",
       "      <td>2293.0</td>\n",
       "      <td>2021-11-03</td>\n",
       "    </tr>\n",
       "    <tr>\n",
       "      <th>4</th>\n",
       "      <td>São Paulo</td>\n",
       "      <td>Campinas</td>\n",
       "      <td>SP</td>\n",
       "      <td>SP</td>\n",
       "      <td>1223237</td>\n",
       "      <td>1710.0</td>\n",
       "      <td>2021-12-03</td>\n",
       "    </tr>\n",
       "  </tbody>\n",
       "</table>\n",
       "</div>"
      ],
      "text/plain": [
       "           Estado         Cidade Sigla-Repetido Sigla  N Habitantes  \\\n",
       "0          Paraná       Londrina             PR    PR        575377   \n",
       "1       São Paulo     São Carlos             SP    SP        254484   \n",
       "2  Santa Catarina  Florianópolis             SC    SC        508826   \n",
       "3          Paraná       Curitiba             PR    PR       1963726   \n",
       "4       São Paulo       Campinas             SP    SP       1223237   \n",
       "\n",
       "   Salário-Médio Data Censo  \n",
       "0         1356.0 2021-08-03  \n",
       "1         1508.0 2021-09-03  \n",
       "2         1798.0 2021-10-03  \n",
       "3         2293.0 2021-11-03  \n",
       "4         1710.0 2021-12-03  "
      ]
     },
     "execution_count": 53,
     "metadata": {},
     "output_type": "execute_result"
    }
   ],
   "source": [
    "cidades"
   ]
  },
  {
   "cell_type": "code",
   "execution_count": 54,
   "id": "48cbb56b-2256-4977-8e4f-554a2348ec7a",
   "metadata": {},
   "outputs": [],
   "source": [
    "# cidades.pop('Sigla-Repetido') ou \n",
    "cidades = cidades.drop(['Sigla-Repetido'], axis=1)"
   ]
  },
  {
   "cell_type": "code",
   "execution_count": 55,
   "id": "395997d9-77b6-4e08-9bbb-0283495e28ce",
   "metadata": {},
   "outputs": [
    {
     "data": {
      "text/html": [
       "<div>\n",
       "<style scoped>\n",
       "    .dataframe tbody tr th:only-of-type {\n",
       "        vertical-align: middle;\n",
       "    }\n",
       "\n",
       "    .dataframe tbody tr th {\n",
       "        vertical-align: top;\n",
       "    }\n",
       "\n",
       "    .dataframe thead th {\n",
       "        text-align: right;\n",
       "    }\n",
       "</style>\n",
       "<table border=\"1\" class=\"dataframe\">\n",
       "  <thead>\n",
       "    <tr style=\"text-align: right;\">\n",
       "      <th></th>\n",
       "      <th>Estado</th>\n",
       "      <th>Cidade</th>\n",
       "      <th>Sigla</th>\n",
       "      <th>N Habitantes</th>\n",
       "      <th>Salário-Médio</th>\n",
       "      <th>Data Censo</th>\n",
       "    </tr>\n",
       "  </thead>\n",
       "  <tbody>\n",
       "    <tr>\n",
       "      <th>0</th>\n",
       "      <td>Paraná</td>\n",
       "      <td>Londrina</td>\n",
       "      <td>PR</td>\n",
       "      <td>575377</td>\n",
       "      <td>1356.0</td>\n",
       "      <td>2021-08-03</td>\n",
       "    </tr>\n",
       "    <tr>\n",
       "      <th>1</th>\n",
       "      <td>São Paulo</td>\n",
       "      <td>São Carlos</td>\n",
       "      <td>SP</td>\n",
       "      <td>254484</td>\n",
       "      <td>1508.0</td>\n",
       "      <td>2021-09-03</td>\n",
       "    </tr>\n",
       "    <tr>\n",
       "      <th>2</th>\n",
       "      <td>Santa Catarina</td>\n",
       "      <td>Florianópolis</td>\n",
       "      <td>SC</td>\n",
       "      <td>508826</td>\n",
       "      <td>1798.0</td>\n",
       "      <td>2021-10-03</td>\n",
       "    </tr>\n",
       "    <tr>\n",
       "      <th>3</th>\n",
       "      <td>Paraná</td>\n",
       "      <td>Curitiba</td>\n",
       "      <td>PR</td>\n",
       "      <td>1963726</td>\n",
       "      <td>2293.0</td>\n",
       "      <td>2021-11-03</td>\n",
       "    </tr>\n",
       "    <tr>\n",
       "      <th>4</th>\n",
       "      <td>São Paulo</td>\n",
       "      <td>Campinas</td>\n",
       "      <td>SP</td>\n",
       "      <td>1223237</td>\n",
       "      <td>1710.0</td>\n",
       "      <td>2021-12-03</td>\n",
       "    </tr>\n",
       "  </tbody>\n",
       "</table>\n",
       "</div>"
      ],
      "text/plain": [
       "           Estado         Cidade Sigla  N Habitantes  Salário-Médio Data Censo\n",
       "0          Paraná       Londrina    PR        575377         1356.0 2021-08-03\n",
       "1       São Paulo     São Carlos    SP        254484         1508.0 2021-09-03\n",
       "2  Santa Catarina  Florianópolis    SC        508826         1798.0 2021-10-03\n",
       "3          Paraná       Curitiba    PR       1963726         2293.0 2021-11-03\n",
       "4       São Paulo       Campinas    SP       1223237         1710.0 2021-12-03"
      ]
     },
     "execution_count": 55,
     "metadata": {},
     "output_type": "execute_result"
    }
   ],
   "source": [
    "cidades"
   ]
  }
 ],
 "metadata": {
  "kernelspec": {
   "display_name": "Python 3 (ipykernel)",
   "language": "python",
   "name": "python3"
  },
  "language_info": {
   "codemirror_mode": {
    "name": "ipython",
    "version": 3
   },
   "file_extension": ".py",
   "mimetype": "text/x-python",
   "name": "python",
   "nbconvert_exporter": "python",
   "pygments_lexer": "ipython3",
   "version": "3.12.0"
  }
 },
 "nbformat": 4,
 "nbformat_minor": 5
}
